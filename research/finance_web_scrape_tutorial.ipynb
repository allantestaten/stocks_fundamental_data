{
 "cells": [
  {
   "cell_type": "code",
   "execution_count": null,
   "id": "41f91a57",
   "metadata": {},
   "outputs": [],
   "source": [
    "# youtube https://www.youtube.com/watch?v=bgULHwFAprc"
   ]
  },
  {
   "cell_type": "markdown",
   "id": "af344669",
   "metadata": {},
   "source": [
    "### Initial set up "
   ]
  },
  {
   "cell_type": "code",
   "execution_count": 2,
   "id": "5bf913d6",
   "metadata": {},
   "outputs": [],
   "source": [
    "import requests\n",
    "from bs4 import BeautifulSoup\n",
    "import pandas as pd"
   ]
  },
  {
   "cell_type": "code",
   "execution_count": 3,
   "id": "14ed1435",
   "metadata": {
    "scrolled": true
   },
   "outputs": [],
   "source": [
    "# part 1\n",
    "url = 'https://www.marketwatch.com/tools/screener/premarket'\n",
    "page = requests.get(url)\n",
    "soup = BeautifulSoup(page.text, 'html.parser')"
   ]
  },
  {
   "cell_type": "code",
   "execution_count": null,
   "id": "b4f76003",
   "metadata": {},
   "outputs": [],
   "source": [
    "# part 2 "
   ]
  }
 ],
 "metadata": {
  "kernelspec": {
   "display_name": "Python 3 (ipykernel)",
   "language": "python",
   "name": "python3"
  },
  "language_info": {
   "codemirror_mode": {
    "name": "ipython",
    "version": 3
   },
   "file_extension": ".py",
   "mimetype": "text/x-python",
   "name": "python",
   "nbconvert_exporter": "python",
   "pygments_lexer": "ipython3",
   "version": "3.9.12"
  }
 },
 "nbformat": 4,
 "nbformat_minor": 5
}
